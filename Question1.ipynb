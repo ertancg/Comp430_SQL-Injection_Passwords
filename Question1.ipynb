{
 "cells": [
  {
   "cell_type": "markdown",
   "id": "7b70bd29",
   "metadata": {},
   "source": [
    "# Part 1"
   ]
  },
  {
   "cell_type": "code",
   "execution_count": 1,
   "id": "e97d4ebb",
   "metadata": {},
   "outputs": [],
   "source": [
    "import numpy as np\n",
    "import hashlib as hs"
   ]
  },
  {
   "cell_type": "markdown",
   "id": "3941ac1b",
   "metadata": {},
   "source": [
    "## Importing Data"
   ]
  },
  {
   "cell_type": "markdown",
   "id": "0b6ca4c8",
   "metadata": {},
   "source": [
    "Import the unsalted and unstreched password file that contains usernames and hashes of users that was retrieved by the victims server.  \n",
    "Import the most used password database called \"rockyou.txt\" to be used in each part of the project."
   ]
  },
  {
   "cell_type": "code",
   "execution_count": 2,
   "id": "cf023ed9",
   "metadata": {},
   "outputs": [],
   "source": [
    "passwords = np.genfromtxt(\"digitalcorp.txt\", delimiter = ',', dtype = str, skip_header = 1)\n",
    "rock_you = np.genfromtxt(\"rockyou.txt\", dtype = str)"
   ]
  },
  {
   "cell_type": "markdown",
   "id": "e4952472",
   "metadata": {},
   "source": [
    "## Exporting Attack Table"
   ]
  },
  {
   "cell_type": "markdown",
   "id": "0b10cce6",
   "metadata": {},
   "source": [
    "Using SHA-512 algorithm to encrypt each password that is in the rockyou database and export the resulting table in (password,hash) pairs to a .csv file so we can use it without calculating the values each time."
   ]
  },
  {
   "cell_type": "code",
   "execution_count": 3,
   "id": "b4f64dd3",
   "metadata": {},
   "outputs": [],
   "source": [
    "attack_table = []\n",
    "for password in rock_you:\n",
    "    sha512 = hs.sha512()\n",
    "    sha512.update(password.encode(\"ASCII\"))\n",
    "    attack_table.append([password, sha512.hexdigest()])\n",
    "\n",
    "np.savetxt(\"attack_table.csv\", attack_table, fmt = \"%s,%s\")"
   ]
  },
  {
   "cell_type": "markdown",
   "id": "db76391b",
   "metadata": {},
   "source": [
    "## Importing the Attack Table"
   ]
  },
  {
   "cell_type": "markdown",
   "id": "92d12dec",
   "metadata": {},
   "source": [
    "Import the generated rainbow table we calculated earlier and compare each hash with the hashed we obtained from the victims to search for a match."
   ]
  },
  {
   "cell_type": "code",
   "execution_count": 4,
   "id": "f6171d1a",
   "metadata": {},
   "outputs": [
    {
     "name": "stdout",
     "output_type": "stream",
     "text": [
      "Password of Creed is: cocacola\n",
      "Password of Meredith is: 50cent\n",
      "Password of Stanley is: patrick\n",
      "Password of Phyllis is: newyork\n"
     ]
    }
   ],
   "source": [
    "attack = np.genfromtxt(\"attack_table.csv\", delimiter = ',', dtype = str)\n",
    "for user,hashed in passwords:\n",
    "    for password, hashed_pass in attack:\n",
    "        if hashed_pass == hashed:\n",
    "            print(\"Password of \" + user + \" is: \" + password)"
   ]
  },
  {
   "cell_type": "markdown",
   "id": "85c29529",
   "metadata": {},
   "source": [
    "## Results"
   ]
  },
  {
   "cell_type": "markdown",
   "id": "1f2981bc",
   "metadata": {},
   "source": [
    "Password of Creed is: cocacola  \n",
    "Password of Meredith is: 50cent  \n",
    "Password of Stanley is: patrick  \n",
    "Password of Phyllis is: newyork  "
   ]
  },
  {
   "cell_type": "markdown",
   "id": "8eb6db55",
   "metadata": {},
   "source": [
    "# Part 2"
   ]
  },
  {
   "cell_type": "markdown",
   "id": "a0b64400",
   "metadata": {},
   "source": [
    "## Importing Data"
   ]
  },
  {
   "cell_type": "markdown",
   "id": "cc26030f",
   "metadata": {},
   "source": [
    "Import the file that contains usernames, salts and hashes of users from the victims servers."
   ]
  },
  {
   "cell_type": "code",
   "execution_count": 5,
   "id": "7054872d",
   "metadata": {},
   "outputs": [],
   "source": [
    "passwords = np.genfromtxt(\"salty-digitalcorp.txt\", delimiter = ',', dtype = str, skip_header = 1)"
   ]
  },
  {
   "cell_type": "markdown",
   "id": "03d93e14",
   "metadata": {},
   "source": [
    "## Exporting Attack Table"
   ]
  },
  {
   "cell_type": "markdown",
   "id": "f1a37867",
   "metadata": {},
   "source": [
    "When using salts most simple method is appending at the front of the password or at the end. So, we calculate two hashes for each user and export the rainbow table so we can use it later."
   ]
  },
  {
   "cell_type": "code",
   "execution_count": 6,
   "id": "e203a343",
   "metadata": {},
   "outputs": [],
   "source": [
    "attack_table = []\n",
    "for password in rock_you:\n",
    "    for _,salt,_ in passwords:\n",
    "        salted = salt + password\n",
    "        sha512 = hs.sha512()\n",
    "        sha512.update(salted.encode(\"ASCII\"))\n",
    "        hash_1 = sha512.hexdigest()\n",
    "        salted = password + salt\n",
    "        sha512 = hs.sha512()\n",
    "        sha512.update(salted.encode(\"ASCII\"))\n",
    "        hash_2 = sha512.hexdigest()\n",
    "        attack_table.append([password, hash_1, hash_2])\n",
    "np.savetxt(\"attack_table_salted.csv\", attack_table, fmt = \"%s,%s,%s\")"
   ]
  },
  {
   "cell_type": "markdown",
   "id": "ca97885d",
   "metadata": {},
   "source": [
    "## Importing Attack Table"
   ]
  },
  {
   "cell_type": "markdown",
   "id": "8b36c4e0",
   "metadata": {},
   "source": [
    "We import the rainbow table that we calculated earlier and compare the hashes with the hashes we obtained from the victims to find a match."
   ]
  },
  {
   "cell_type": "code",
   "execution_count": 7,
   "id": "3d7313a4",
   "metadata": {},
   "outputs": [
    {
     "name": "stdout",
     "output_type": "stream",
     "text": [
      "Password of Kevin is: tinkerbell\n",
      "Password of Angela is: chrisbrown\n",
      "Password of Oscar is: chivas\n",
      "Password of Darryl is: eminem\n"
     ]
    }
   ],
   "source": [
    "attack = np.genfromtxt(\"attack_table_salted.csv\", delimiter = ',', dtype = str)\n",
    "for user,_,hashed in passwords:\n",
    "    for password, hash_1, hash_2 in attack:\n",
    "        if hash_1 == hashed or hash_2 == hashed:\n",
    "            print(\"Password of \" + user + \" is: \" + password)"
   ]
  },
  {
   "cell_type": "markdown",
   "id": "bdb17d68",
   "metadata": {},
   "source": [
    "## Results"
   ]
  },
  {
   "cell_type": "markdown",
   "id": "5e5c2598",
   "metadata": {},
   "source": [
    "Password of Kevin is: tinkerbell  \n",
    "Password of Angela is: chrisbrown  \n",
    "Password of Oscar is: chivas  \n",
    "Password of Darryl is: eminem  "
   ]
  },
  {
   "cell_type": "markdown",
   "id": "f8c73626",
   "metadata": {},
   "source": [
    "# Part 3"
   ]
  },
  {
   "cell_type": "markdown",
   "id": "af0cc28a",
   "metadata": {},
   "source": [
    "## Importing Data"
   ]
  },
  {
   "cell_type": "markdown",
   "id": "dd698d8d",
   "metadata": {},
   "source": [
    "Import the file that was key streched containing username, salt and hashes of the victims that was obtained from the victims server. "
   ]
  },
  {
   "cell_type": "code",
   "execution_count": 8,
   "id": "4b23ac19",
   "metadata": {},
   "outputs": [],
   "source": [
    "passwords = np.genfromtxt(\"keystreching-digitalcorp.txt\", delimiter = ',', dtype = str, skip_header = 1)"
   ]
  },
  {
   "cell_type": "code",
   "execution_count": 9,
   "id": "4fc8526a",
   "metadata": {},
   "outputs": [],
   "source": [
    "#This is a helper method to print the found patter that was used in key streching.\n",
    "def print_pattern(index):\n",
    "    if index == 0:\n",
    "        print(\"Pattern is [hash + password + salt]\")\n",
    "    if index == 1:\n",
    "        print(\"Pattern is [hash + salt + password]\")\n",
    "    if index == 2:\n",
    "        print(\"Pattern is [password + salt + hash]\")\n",
    "    if index == 3:\n",
    "        print(\"Pattern is [password + hash + salt]\")\n",
    "    if index == 4:\n",
    "        print(\"Pattern is [salt + hash + password]\")\n",
    "    if index == 5:\n",
    "        print(\"Pattern is [salt + password + hash]\")\n",
    "    if index == 6:\n",
    "        print(\"Pattern is [hash + password + salt]\")\n",
    "    if index == 7:\n",
    "        print(\"Pattern is [hash + salt + password]\")\n",
    "    if index == 8:\n",
    "        print(\"Pattern is [password + salt + hash]\")\n",
    "    if index == 9:\n",
    "        print(\"Pattern is [password + hash + salt]\")\n",
    "    if index == 10:\n",
    "        print(\"Pattern is [salt + hash + password]\")\n",
    "    if index == 11:\n",
    "        print(\"Pattern is [salt + password + hash]\")\n",
    "        "
   ]
  },
  {
   "cell_type": "markdown",
   "id": "97d160a4",
   "metadata": {},
   "source": [
    "## Running the Attack"
   ]
  },
  {
   "cell_type": "markdown",
   "id": "67cc3417",
   "metadata": {},
   "source": [
    "We have to calculate all possible patterns and number of times key streching is used. This results in millions of possible hash combinations so we don't export the rainbow table calculated here because its size results in gigabytes instead we keep it in memory and print the pattern that was used and number of iterations it was key streched.  \n",
    "We know that simple method of arranging is used to calculate the next hash so with 3 items and initial hashing has 2 possible combinations (similar to part 2). For each known password in rockyou database we have to calculate 12 possible combinations of ordering for each user. We have 4 users in total and we know that number of iterations is between 1-2000. So, we have to calculate 502x4x12x2000 = 48,192,000 possible hashes, that's why we don't export the table.  \n",
    "First, we go through each password in rockyou database one-by-one and calculate 12 possible initial salting (first 6 password + salt, last 6 salt + password), then we calculate the next hash for each 12 possible combinations of hash, salt and password. We then update the 12 hashes we calculated and compare the each one with the hash of the victims. When a match is found we print the number of iterations that was key streched and the patter that was used. "
   ]
  },
  {
   "cell_type": "code",
   "execution_count": null,
   "id": "4812c6f8",
   "metadata": {},
   "outputs": [
    {
     "name": "stdout",
     "output_type": "stream",
     "text": [
      "Password of Jim is: hottie\n",
      "Key streched with  1258  iterations.\n",
      "Pattern is [password + hash + salt]\n",
      "Password of Dwight is: angelica\n",
      "Key streched with  1258  iterations.\n",
      "Pattern is [password + hash + salt]\n",
      "Password of Pam is: cutiepie\n",
      "Key streched with  1258  iterations.\n",
      "Pattern is [password + hash + salt]\n",
      "Password of Michael is: superstar\n",
      "Key streched with  1258  iterations.\n",
      "Pattern is [password + hash + salt]\n"
     ]
    }
   ],
   "source": [
    "skip = False\n",
    "for password in rock_you:\n",
    "    for user,salt,hashed in passwords:\n",
    "        skip = False\n",
    "        hash_functions = [hs.sha512(),hs.sha512(),hs.sha512(),hs.sha512(),hs.sha512(),hs.sha512(),\n",
    "                          hs.sha512(),hs.sha512(),hs.sha512(),hs.sha512(),hs.sha512(),hs.sha512()]\n",
    "        hashes = []\n",
    "        initial_hash_1 = password + salt\n",
    "        initial_hash_2 = salt + password\n",
    "        for i in range(len(hash_functions)):\n",
    "            if i < len(hash_functions)/2:\n",
    "                hash_functions[i].update(initial_hash_1.encode(\"ASCII\"))\n",
    "                hashes.append(hash_functions[i].hexdigest())\n",
    "            else:\n",
    "                hash_functions[i].update(initial_hash_2.encode(\"ASCII\"))\n",
    "                hashes.append(hash_functions[i].hexdigest())\n",
    "        for i in range(2000):\n",
    "            hash_functions = [hs.sha512(),hs.sha512(),hs.sha512(),hs.sha512(),hs.sha512(),hs.sha512(),\n",
    "                              hs.sha512(),hs.sha512(),hs.sha512(),hs.sha512(),hs.sha512(),hs.sha512()]\n",
    "            hash_functions[0].update(str(hashes[0] + password + salt).encode(\"ASCII\"))\n",
    "            hash_functions[1].update(str(hashes[1] + salt + password).encode(\"ASCII\"))\n",
    "            hash_functions[2].update(str(password + salt + hashes[2]).encode(\"ASCII\"))\n",
    "            hash_functions[3].update(str(password + hashes[3] + salt).encode(\"ASCII\"))\n",
    "            hash_functions[4].update(str(salt + hashes[4] + password).encode(\"ASCII\"))\n",
    "            hash_functions[5].update(str(salt + password + hashes[5]).encode(\"ASCII\"))\n",
    "            hash_functions[6].update(str(hashes[6] + password + salt).encode(\"ASCII\"))\n",
    "            hash_functions[7].update(str(hashes[7] + salt + password).encode(\"ASCII\"))\n",
    "            hash_functions[8].update(str(password + salt + hashes[8]).encode(\"ASCII\"))\n",
    "            hash_functions[9].update(str(password + hashes[9] + salt).encode(\"ASCII\"))\n",
    "            hash_functions[10].update(str(salt + hashes[10] + password).encode(\"ASCII\"))\n",
    "            hash_functions[11].update(str(salt + password + hashes[11]).encode(\"ASCII\"))\n",
    "            for j in range(len(hash_functions)):\n",
    "                hashes[j] = hash_functions[j].hexdigest()\n",
    "                if hashes[j] == hashed:\n",
    "                    print(\"Password of \" + user + \" is: \" + password)\n",
    "                    print(\"Key streched with \", i + 1, \" iterations.\")\n",
    "                    print_pattern(j)\n",
    "                    skip = True\n",
    "                    break\n",
    "            if skip:\n",
    "                break\n",
    "            \n"
   ]
  },
  {
   "cell_type": "markdown",
   "id": "43279588",
   "metadata": {},
   "source": [
    "## Results"
   ]
  },
  {
   "cell_type": "markdown",
   "id": "c3b4066e",
   "metadata": {},
   "source": [
    "Number of iterations that was key streched: 1258  \n",
    "Pattern that was used for the next hash: password + previous_hash + salt  \n",
    "Password of Jim is: hottie  \n",
    "Password of Dwight is: angelica  \n",
    "Password of Pam is: cutiepie  \n",
    "Password of Michael is: superstar"
   ]
  },
  {
   "cell_type": "code",
   "execution_count": null,
   "id": "5f4b19bb",
   "metadata": {},
   "outputs": [],
   "source": []
  }
 ],
 "metadata": {
  "kernelspec": {
   "display_name": "Python 3 (ipykernel)",
   "language": "python",
   "name": "python3"
  },
  "language_info": {
   "codemirror_mode": {
    "name": "ipython",
    "version": 3
   },
   "file_extension": ".py",
   "mimetype": "text/x-python",
   "name": "python",
   "nbconvert_exporter": "python",
   "pygments_lexer": "ipython3",
   "version": "3.9.7"
  }
 },
 "nbformat": 4,
 "nbformat_minor": 5
}
